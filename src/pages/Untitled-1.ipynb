{
 "cells": [
  {
   "cell_type": "code",
   "execution_count": null,
   "metadata": {},
   "outputs": [],
   "source": [
    "import java.util.*;\n",
    "public class Bank {\n",
    "public static void main(String[] args) {\n",
    "Bank bk=new Bank();\n",
    "bk.open();\n",
    "}\n",
    "public void open() {\n",
    "PiggyBank pb=new PiggyBank();\n",
    "Coin c1=new Coin(10);\n",
    "Coin c2=new Coin(50);\n",
    "pb.addCoin((c1));\n",
    "pb.addCoin((c2));\n",
    "pb.takeOutCoin((c1));\n",
    "System.out.println(pb.getTotal());\n",
    "}\n",
    "}\n",
    "class PiggyBank {\n",
    "Set<Coin> s = null;\n",
    "private double total;\n",
    "PiggyBank (){\n",
    "s = new HashSet<Coin>();\n",
    "}\n",
    "public void addCoin(Coin c_in){\n",
    "s.add(c_in);\n",
    "total = total + c_in.getValue();\n",
    "}\n",
    "public void takeOutCoin(Coin c_out){\n",
    "s.remove(c_out);\n",
    "total = total - c_out.getValue();\n",
    "}\n",
    "public double getTotal(){\n",
    "return total;\n",
    "}\n",
    "}\n",
    "class Coin\n",
    "{\n",
    "private double value;\n",
    "public Coin(double aValue){\n",
    "value = aValue;\n",
    "}\n",
    "public double getValue(){\n",
    "return value;"
   ]
  }
 ],
 "metadata": {
  "language_info": {
   "name": "python"
  }
 },
 "nbformat": 4,
 "nbformat_minor": 2
}
